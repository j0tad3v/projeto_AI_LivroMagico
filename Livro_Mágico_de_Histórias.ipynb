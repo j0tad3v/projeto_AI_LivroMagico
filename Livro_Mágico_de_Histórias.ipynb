{
  "nbformat": 4,
  "nbformat_minor": 0,
  "metadata": {
    "colab": {
      "provenance": [],
      "gpuType": "T4",
      "authorship_tag": "ABX9TyMSYomioD8YhlCrzIxtCwXz",
      "include_colab_link": true
    },
    "kernelspec": {
      "name": "python3",
      "display_name": "Python 3"
    },
    "language_info": {
      "name": "python"
    },
    "accelerator": "GPU"
  },
  "cells": [
    {
      "cell_type": "markdown",
      "metadata": {
        "id": "view-in-github",
        "colab_type": "text"
      },
      "source": [
        "<a href=\"https://colab.research.google.com/github/j0tad3v/projeto_AI_LivroMagico/blob/main/Livro_M%C3%A1gico_de_Hist%C3%B3rias.ipynb\" target=\"_parent\"><img src=\"https://colab.research.google.com/assets/colab-badge.svg\" alt=\"Open In Colab\"/></a>"
      ]
    },
    {
      "cell_type": "markdown",
      "source": [
        "Instalando SDK"
      ],
      "metadata": {
        "id": "EFL0ty6LtDbQ"
      }
    },
    {
      "cell_type": "code",
      "execution_count": null,
      "metadata": {
        "id": "cW38e6csfLsd"
      },
      "outputs": [],
      "source": [
        "\n",
        "!pip install -q -U google-generativeai\n"
      ]
    },
    {
      "cell_type": "markdown",
      "source": [
        "Importando e instalando Bibliotecas"
      ],
      "metadata": {
        "id": "akASVP4YtQPE"
      }
    },
    {
      "cell_type": "code",
      "source": [
        "import pathlib\n",
        "import textwrap\n",
        "\n",
        "import google.generativeai as genai\n",
        "\n",
        "from IPython.display import display\n",
        "from IPython.display import Markdown\n",
        "\n",
        "\n",
        "def to_markdown(text):\n",
        "  text = text.replace('•', '  *')\n",
        "  return Markdown(textwrap.indent(text, '> ', predicate=lambda _: True))"
      ],
      "metadata": {
        "id": "b6wfrhEeldFb"
      },
      "execution_count": null,
      "outputs": []
    },
    {
      "cell_type": "code",
      "source": [
        "\n",
        "from google.colab import userdata"
      ],
      "metadata": {
        "id": "O5gDdwwUmR0y"
      },
      "execution_count": null,
      "outputs": []
    },
    {
      "cell_type": "markdown",
      "source": [
        "configurando API"
      ],
      "metadata": {
        "id": "SAs-urQptfp7"
      }
    },
    {
      "cell_type": "code",
      "execution_count": null,
      "metadata": {
        "id": "2bcfnGEviwTI"
      },
      "outputs": [],
      "source": [
        "model = genai.GenerativeModel('gemini-pro')"
      ]
    },
    {
      "cell_type": "code",
      "source": [
        "from google.colab import userdata\n",
        "GOOGLE_API_KEY=\"SECRET_KEY¨\"\n",
        "genai.configure(api_key=GOOGLE_API_KEY)"
      ],
      "metadata": {
        "id": "KxcrMlepnxtL"
      },
      "execution_count": 24,
      "outputs": []
    },
    {
      "cell_type": "code",
      "source": [
        "for m in genai.list_models():\n",
        "  if 'generateContent' in m.supported_generation_methods:\n",
        "    print(m.name)"
      ],
      "metadata": {
        "colab": {
          "base_uri": "https://localhost:8080/",
          "height": 145
        },
        "id": "NE9hWgu2o30w",
        "outputId": "00f75176-a695-40b0-d088-8e6e0ed5e150"
      },
      "execution_count": null,
      "outputs": [
        {
          "output_type": "stream",
          "name": "stdout",
          "text": [
            "models/gemini-1.0-pro\n",
            "models/gemini-1.0-pro-001\n",
            "models/gemini-1.0-pro-latest\n",
            "models/gemini-1.0-pro-vision-latest\n",
            "models/gemini-1.5-pro-latest\n",
            "models/gemini-pro\n",
            "models/gemini-pro-vision\n"
          ]
        }
      ]
    },
    {
      "cell_type": "code",
      "source": [
        "model = genai.GenerativeModel(model_name='gemini-1.5-pro-latest')\n"
      ],
      "metadata": {
        "id": "0zkZdS3Nr_Zc"
      },
      "execution_count": null,
      "outputs": []
    },
    {
      "cell_type": "markdown",
      "source": [
        "Criando variaveis para o prompt de criação"
      ],
      "metadata": {
        "id": "6iDqSeVpLEuA"
      }
    },
    {
      "cell_type": "code",
      "source": [
        "def criar_historia():\n",
        "  \"\"\"\n",
        "  Cria uma historinha infantil com base na entrada do usuário.\n",
        "  \"\"\"\n",
        "\n",
        "  personagens = input(\"Digite os personagens da história, separados por vírgula: \")\n",
        "  cenario = input(\"Digite o cenário da história: \")\n",
        "\n",
        "  personagens = [p.strip() for p in personagens.split(\",\")]\n",
        "\n",
        "  historia = f\"Era uma vez, {cenario}. \"\n",
        "\n",
        "  if len(personagens) == 1:\n",
        "    historia += f\"{personagens[0]} estava \"\n",
        "  else:\n",
        "    for i, personagem in enumerate(personagens):\n",
        "      if i == len(personagens) - 1:\n",
        "        historia += f\"e {personagem} estavam \"\n",
        "      else:\n",
        "        historia += f\"{personagem}, \"\n",
        "\n",
        "  historia += \"se divertindo muito! \"\n",
        "\n",
        "  # Adicionar um elemento surpresa ou aventura\n",
        "  historia += \"De repente, \"\n",
        "  if \"jardim\" in cenario:\n",
        "    historia += \"uma borboleta colorida pousou no nariz de \" + personagens[0] + \"! \"\n",
        "  elif \"nave espacial\" in cenario:\n",
        "    historia += \"a nave começou a sacudir e luzes piscavam por todos os lados! \"\n",
        "  else:\n",
        "    historia += \"algo mágico aconteceu! \"\n",
        "\n",
        "  # Finalizar a história\n",
        "  historia += \"Que aventura incrível! O que será que vai acontecer agora?vamos criar uma historia emocionante com muitas aventuras\"\n",
        "\n",
        "  return historia\n",
        "\n",
        "# Chamar a função para criar a história\n",
        "historia_completa = criar_historia()\n",
        "print(historia_completa)"
      ],
      "metadata": {
        "colab": {
          "base_uri": "https://localhost:8080/"
        },
        "id": "G5zB0ylwJEpw",
        "outputId": "00b4a953-e817-4a0a-af8e-070c6f2acfc6"
      },
      "execution_count": 25,
      "outputs": [
        {
          "output_type": "stream",
          "name": "stdout",
          "text": [
            "Digite os personagens da história, separados por vírgula: URSO\n",
            "Digite o cenário da história: CASTELO\n",
            "Era uma vez, CASTELO. URSO estava se divertindo muito! De repente, algo mágico aconteceu! Que aventura incrível! O que será que vai acontecer agora?vamos criar uma historia emocionante com muitas aventuras\n"
          ]
        }
      ]
    },
    {
      "cell_type": "code",
      "source": [
        "response = model.generate_content(historia_completa)\n",
        "response.text"
      ],
      "metadata": {
        "colab": {
          "base_uri": "https://localhost:8080/",
          "height": 109
        },
        "id": "eNX28BX2sYZR",
        "outputId": "7f133d68-fb24-4c40-cf87-92c3bcb87a89"
      },
      "execution_count": 26,
      "outputs": [
        {
          "output_type": "execute_result",
          "data": {
            "text/plain": [
              "'Era uma vez, num reino distante, um CASTELO feito de pedras brilhantes como diamantes, com torres que tocavam as nuvens rosadas do céu. Neste castelo vivia um URSO chamado Bartolomeu, conhecido por sua gargalhada estrondosa e por seu amor por mel e travessuras. Bartolomeu estava tendo um dia maravilhoso! Ele havia acabado de devorar um pote inteiro de mel e agora pulava alegremente em cima da cama do rei, que estava fora em viagem diplomática.\\n\\nDe repente, algo mágico aconteceu! Uma luz azul vibrante preencheu o quarto, e um portal cintilante se abriu na parede. Bartolomeu, com a boca ainda melecada de mel, ficou paralisado de espanto. Do portal, emergiu uma figura encantadora: uma fada minúscula, com asas de libélula e cabelos feitos de fios de ouro.\\n\\n\"Olá, Bartolomeu\", disse a fada com uma voz doce como mel. \"Meu nome é Lumina, e preciso da sua ajuda! O reino das fadas está em perigo. A malvada bruxa Umbra roubou a Pedra da Lua, a fonte de toda a nossa magia, e agora o nosso mundo está mergulhando na escuridão.\"\\n\\nBartolomeu, apesar de ser um urso brincalhão, tinha um coração de ouro. Ele nunca deixaria alguém em apuros, especialmente uma fada tão adorável. \"Eu ajudo você, Lumina! Mas... como um urso gordinho e desajeitado pode combater uma bruxa poderosa?\"\\n\\nLumina sorriu. \"Você é mais forte do que imagina, Bartolomeu. E, além disso, você não estará sozinho nesta aventura. Atravessaremos o portal e, juntos, encontraremos aliados poderosos, desvendaremos enigmas ancestrais e enfrentaremos perigos inimagináveis para recuperar a Pedra da Lua!\"\\n\\nSem hesitar, Bartolomeu pulou no portal, seguido pela fada. O portal se fechou atrás deles, e a aventura teve início! O castelo, antes palco de brincadeiras inocentes, agora era o ponto de partida de uma jornada épica. Bartolomeu, o urso que adorava mel e travessuras, agora se tornara o improvável herói de um reino mágico.\\n\\nE assim, a história continua... Que desafios os esperam no reino das fadas? Que criaturas fantásticas eles encontrarão? Será que Bartolomeu conseguirá superar seus medos e mostrar sua verdadeira força? As respostas a essas perguntas, e muito mais, serão reveladas no próximo capítulo desta emocionante saga! \\n'"
            ],
            "application/vnd.google.colaboratory.intrinsic+json": {
              "type": "string"
            }
          },
          "metadata": {},
          "execution_count": 26
        }
      ]
    }
  ]
}